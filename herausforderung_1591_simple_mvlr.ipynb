{
  "nbformat": 4,
  "nbformat_minor": 0,
  "metadata": {
    "colab": {
      "name": "herausforderung_1591_simple_mvlr.ipynb",
      "provenance": [],
      "collapsed_sections": [],
      "authorship_tag": "ABX9TyOq+Kb2GomKl4Ahdt8ev+es",
      "include_colab_link": true
    },
    "kernelspec": {
      "name": "python3",
      "display_name": "Python 3"
    }
  },
  "cells": [
    {
      "cell_type": "markdown",
      "metadata": {
        "id": "view-in-github",
        "colab_type": "text"
      },
      "source": [
        "<a href=\"https://colab.research.google.com/github/RadMagnus/herausforderung_1591/blob/master/herausforderung_1591_simple_mvlr.ipynb\" target=\"_parent\"><img src=\"https://colab.research.google.com/assets/colab-badge.svg\" alt=\"Open In Colab\"/></a>"
      ]
    },
    {
      "cell_type": "code",
      "metadata": {
        "id": "ZQkm6WFxHD2b",
        "colab_type": "code",
        "colab": {}
      },
      "source": [
        "import pandas as pd  \n",
        "import numpy as np  \n",
        "import matplotlib.pyplot as plt  \n",
        "import seaborn as seabornInstance \n",
        "from sklearn.model_selection import train_test_split \n",
        "from sklearn.linear_model import LinearRegression\n",
        "from sklearn import metrics\n",
        "import requests, io\n",
        "%matplotlib inline"
      ],
      "execution_count": 0,
      "outputs": []
    },
    {
      "cell_type": "code",
      "metadata": {
        "id": "X4EPvdv2JDiZ",
        "colab_type": "code",
        "colab": {}
      },
      "source": [
        "r = requests.get('https://raw.githubusercontent.com/RadMagnus/herausforderung_1591/e698597b4d45e47e1a8fecbeacfdd186b0868bab/data/reduced/reduceCasesToDailyLK.tsv')\n",
        "parse_dates = ['date']\n",
        "dataset = pd.read_csv(io.BytesIO(r.content), low_memory=False, sep='\\t', dtype={'id_county': np.int32, \n",
        "                                                                             'id_state': np.int32, \n",
        "                                                                             'population': np.float64,\n",
        "                                                                             'density': np.float64}, parse_dates=parse_dates )"
      ],
      "execution_count": 0,
      "outputs": []
    },
    {
      "cell_type": "code",
      "metadata": {
        "id": "Xaq75_nEcbSO",
        "colab_type": "code",
        "colab": {
          "base_uri": "https://localhost:8080/",
          "height": 374
        },
        "outputId": "41af7ef7-8911-4b4d-cca5-542380b28e3c"
      },
      "source": [
        "dataset.isnull().any()"
      ],
      "execution_count": 24,
      "outputs": [
        {
          "output_type": "execute_result",
          "data": {
            "text/plain": [
              "date            False\n",
              "id_county       False\n",
              "county          False\n",
              "id_state        False\n",
              "state           False\n",
              "size             True\n",
              "population       True\n",
              "density          True\n",
              "demography_1    False\n",
              "no_cases        False\n",
              "cases_m         False\n",
              "cases_w         False\n",
              "A00-A04         False\n",
              "A05-A14         False\n",
              "A15-A34         False\n",
              "A35-A59         False\n",
              "A60-A79         False\n",
              "A80+            False\n",
              "no_infected     False\n",
              "no_deceased     False\n",
              "dtype: bool"
            ]
          },
          "metadata": {
            "tags": []
          },
          "execution_count": 24
        }
      ]
    },
    {
      "cell_type": "code",
      "metadata": {
        "id": "z-ivKBxRuzOq",
        "colab_type": "code",
        "colab": {}
      },
      "source": [
        "dataset['cases_total'] = dataset['cases_m'] + dataset['cases_w']\n",
        "dataset['timestamp'] = dataset['date'].astype(np.int64) // 10**9"
      ],
      "execution_count": 0,
      "outputs": []
    },
    {
      "cell_type": "code",
      "metadata": {
        "id": "Yn3-6USWcgf0",
        "colab_type": "code",
        "colab": {}
      },
      "source": [
        "dataset = dataset.fillna(method='ffill')"
      ],
      "execution_count": 0,
      "outputs": []
    },
    {
      "cell_type": "code",
      "metadata": {
        "id": "5T5z-b0fpb1P",
        "colab_type": "code",
        "colab": {
          "base_uri": "https://localhost:8080/",
          "height": 317
        },
        "outputId": "bdd828e8-d6e5-4042-d038-2f50cad6ca07"
      },
      "source": [
        "dataset.describe()"
      ],
      "execution_count": 33,
      "outputs": [
        {
          "output_type": "execute_result",
          "data": {
            "text/html": [
              "<div>\n",
              "<style scoped>\n",
              "    .dataframe tbody tr th:only-of-type {\n",
              "        vertical-align: middle;\n",
              "    }\n",
              "\n",
              "    .dataframe tbody tr th {\n",
              "        vertical-align: top;\n",
              "    }\n",
              "\n",
              "    .dataframe thead th {\n",
              "        text-align: right;\n",
              "    }\n",
              "</style>\n",
              "<table border=\"1\" class=\"dataframe\">\n",
              "  <thead>\n",
              "    <tr style=\"text-align: right;\">\n",
              "      <th></th>\n",
              "      <th>id_county</th>\n",
              "      <th>id_state</th>\n",
              "      <th>size</th>\n",
              "      <th>population</th>\n",
              "      <th>density</th>\n",
              "      <th>demography_1</th>\n",
              "      <th>no_cases</th>\n",
              "      <th>cases_m</th>\n",
              "      <th>cases_w</th>\n",
              "      <th>A00-A04</th>\n",
              "      <th>A05-A14</th>\n",
              "      <th>A15-A34</th>\n",
              "      <th>A35-A59</th>\n",
              "      <th>A60-A79</th>\n",
              "      <th>A80+</th>\n",
              "      <th>no_infected</th>\n",
              "      <th>no_deceased</th>\n",
              "      <th>cases_total</th>\n",
              "      <th>timestamp</th>\n",
              "    </tr>\n",
              "  </thead>\n",
              "  <tbody>\n",
              "    <tr>\n",
              "      <th>count</th>\n",
              "      <td>3088.00000</td>\n",
              "      <td>3088.000000</td>\n",
              "      <td>3088.000000</td>\n",
              "      <td>3.088000e+03</td>\n",
              "      <td>3088.000000</td>\n",
              "      <td>3088.000000</td>\n",
              "      <td>3088.000000</td>\n",
              "      <td>3088.000000</td>\n",
              "      <td>3088.0</td>\n",
              "      <td>3088.000000</td>\n",
              "      <td>3088.000000</td>\n",
              "      <td>3088.000000</td>\n",
              "      <td>3088.000000</td>\n",
              "      <td>3088.000000</td>\n",
              "      <td>3088.000000</td>\n",
              "      <td>3088.000000</td>\n",
              "      <td>3088.000000</td>\n",
              "      <td>3088.000000</td>\n",
              "      <td>3.088000e+03</td>\n",
              "    </tr>\n",
              "    <tr>\n",
              "      <th>mean</th>\n",
              "      <td>8080.67908</td>\n",
              "      <td>7.771697</td>\n",
              "      <td>887.850470</td>\n",
              "      <td>2.392601e+05</td>\n",
              "      <td>569.565684</td>\n",
              "      <td>0.214709</td>\n",
              "      <td>5.410946</td>\n",
              "      <td>3.046956</td>\n",
              "      <td>0.0</td>\n",
              "      <td>0.039832</td>\n",
              "      <td>0.122085</td>\n",
              "      <td>1.397668</td>\n",
              "      <td>2.883096</td>\n",
              "      <td>0.798899</td>\n",
              "      <td>0.140220</td>\n",
              "      <td>5.395725</td>\n",
              "      <td>0.015220</td>\n",
              "      <td>3.046956</td>\n",
              "      <td>1.584115e+09</td>\n",
              "    </tr>\n",
              "    <tr>\n",
              "      <th>std</th>\n",
              "      <td>3383.78277</td>\n",
              "      <td>3.410955</td>\n",
              "      <td>688.017378</td>\n",
              "      <td>2.230083e+05</td>\n",
              "      <td>757.520005</td>\n",
              "      <td>0.025922</td>\n",
              "      <td>8.937560</td>\n",
              "      <td>5.029752</td>\n",
              "      <td>0.0</td>\n",
              "      <td>0.237483</td>\n",
              "      <td>0.501043</td>\n",
              "      <td>2.953130</td>\n",
              "      <td>4.749467</td>\n",
              "      <td>1.625051</td>\n",
              "      <td>0.587166</td>\n",
              "      <td>8.923575</td>\n",
              "      <td>0.130142</td>\n",
              "      <td>5.029752</td>\n",
              "      <td>4.659139e+05</td>\n",
              "    </tr>\n",
              "    <tr>\n",
              "      <th>min</th>\n",
              "      <td>1001.00000</td>\n",
              "      <td>1.000000</td>\n",
              "      <td>37.220000</td>\n",
              "      <td>3.427000e+04</td>\n",
              "      <td>36.832052</td>\n",
              "      <td>0.160000</td>\n",
              "      <td>1.000000</td>\n",
              "      <td>0.000000</td>\n",
              "      <td>0.0</td>\n",
              "      <td>0.000000</td>\n",
              "      <td>0.000000</td>\n",
              "      <td>0.000000</td>\n",
              "      <td>0.000000</td>\n",
              "      <td>0.000000</td>\n",
              "      <td>0.000000</td>\n",
              "      <td>1.000000</td>\n",
              "      <td>0.000000</td>\n",
              "      <td>0.000000</td>\n",
              "      <td>1.580170e+09</td>\n",
              "    </tr>\n",
              "    <tr>\n",
              "      <th>25%</th>\n",
              "      <td>5769.00000</td>\n",
              "      <td>5.000000</td>\n",
              "      <td>434.830000</td>\n",
              "      <td>1.203710e+05</td>\n",
              "      <td>130.000541</td>\n",
              "      <td>0.200000</td>\n",
              "      <td>1.000000</td>\n",
              "      <td>1.000000</td>\n",
              "      <td>0.0</td>\n",
              "      <td>0.000000</td>\n",
              "      <td>0.000000</td>\n",
              "      <td>0.000000</td>\n",
              "      <td>1.000000</td>\n",
              "      <td>0.000000</td>\n",
              "      <td>0.000000</td>\n",
              "      <td>1.000000</td>\n",
              "      <td>0.000000</td>\n",
              "      <td>1.000000</td>\n",
              "      <td>1.583885e+09</td>\n",
              "    </tr>\n",
              "    <tr>\n",
              "      <th>50%</th>\n",
              "      <td>8222.00000</td>\n",
              "      <td>8.000000</td>\n",
              "      <td>776.760000</td>\n",
              "      <td>1.808640e+05</td>\n",
              "      <td>222.537976</td>\n",
              "      <td>0.210000</td>\n",
              "      <td>3.000000</td>\n",
              "      <td>2.000000</td>\n",
              "      <td>0.0</td>\n",
              "      <td>0.000000</td>\n",
              "      <td>0.000000</td>\n",
              "      <td>1.000000</td>\n",
              "      <td>1.000000</td>\n",
              "      <td>0.000000</td>\n",
              "      <td>0.000000</td>\n",
              "      <td>3.000000</td>\n",
              "      <td>0.000000</td>\n",
              "      <td>2.000000</td>\n",
              "      <td>1.584144e+09</td>\n",
              "    </tr>\n",
              "    <tr>\n",
              "      <th>75%</th>\n",
              "      <td>9574.25000</td>\n",
              "      <td>9.000000</td>\n",
              "      <td>1248.720000</td>\n",
              "      <td>2.766400e+05</td>\n",
              "      <td>647.909997</td>\n",
              "      <td>0.230000</td>\n",
              "      <td>6.000000</td>\n",
              "      <td>3.000000</td>\n",
              "      <td>0.0</td>\n",
              "      <td>0.000000</td>\n",
              "      <td>0.000000</td>\n",
              "      <td>2.000000</td>\n",
              "      <td>3.000000</td>\n",
              "      <td>1.000000</td>\n",
              "      <td>0.000000</td>\n",
              "      <td>6.000000</td>\n",
              "      <td>0.000000</td>\n",
              "      <td>3.000000</td>\n",
              "      <td>1.584490e+09</td>\n",
              "    </tr>\n",
              "    <tr>\n",
              "      <th>max</th>\n",
              "      <td>16077.00000</td>\n",
              "      <td>16.000000</td>\n",
              "      <td>5495.650000</td>\n",
              "      <td>1.830584e+06</td>\n",
              "      <td>4686.167166</td>\n",
              "      <td>0.310000</td>\n",
              "      <td>144.000000</td>\n",
              "      <td>79.000000</td>\n",
              "      <td>0.0</td>\n",
              "      <td>4.000000</td>\n",
              "      <td>9.000000</td>\n",
              "      <td>51.000000</td>\n",
              "      <td>76.000000</td>\n",
              "      <td>23.000000</td>\n",
              "      <td>14.000000</td>\n",
              "      <td>144.000000</td>\n",
              "      <td>2.000000</td>\n",
              "      <td>79.000000</td>\n",
              "      <td>1.584662e+09</td>\n",
              "    </tr>\n",
              "  </tbody>\n",
              "</table>\n",
              "</div>"
            ],
            "text/plain": [
              "         id_county     id_state  ...  cases_total     timestamp\n",
              "count   3088.00000  3088.000000  ...  3088.000000  3.088000e+03\n",
              "mean    8080.67908     7.771697  ...     3.046956  1.584115e+09\n",
              "std     3383.78277     3.410955  ...     5.029752  4.659139e+05\n",
              "min     1001.00000     1.000000  ...     0.000000  1.580170e+09\n",
              "25%     5769.00000     5.000000  ...     1.000000  1.583885e+09\n",
              "50%     8222.00000     8.000000  ...     2.000000  1.584144e+09\n",
              "75%     9574.25000     9.000000  ...     3.000000  1.584490e+09\n",
              "max    16077.00000    16.000000  ...    79.000000  1.584662e+09\n",
              "\n",
              "[8 rows x 19 columns]"
            ]
          },
          "metadata": {
            "tags": []
          },
          "execution_count": 33
        }
      ]
    },
    {
      "cell_type": "code",
      "metadata": {
        "id": "lpNdWT1pcjhf",
        "colab_type": "code",
        "colab": {}
      },
      "source": [
        "x = dataset[['id_county', 'timestamp', 'population', 'density', 'demography_1', 'A00-A04', 'A05-A14','A15-A34','A35-A59','A60-A79', 'A80+']].values\n",
        "y = dataset['cases_total'].values"
      ],
      "execution_count": 0,
      "outputs": []
    },
    {
      "cell_type": "code",
      "metadata": {
        "id": "JwnLm-MFfSGV",
        "colab_type": "code",
        "colab": {}
      },
      "source": [
        "x_train, x_test, y_train, y_test = train_test_split(x, y, test_size=0.2, random_state=0)"
      ],
      "execution_count": 0,
      "outputs": []
    },
    {
      "cell_type": "code",
      "metadata": {
        "id": "8MKXex_4dIU6",
        "colab_type": "code",
        "colab": {
          "base_uri": "https://localhost:8080/",
          "height": 34
        },
        "outputId": "456187bb-80a0-45ab-be5b-014c54b4d694"
      },
      "source": [
        "regressor = LinearRegression()  \n",
        "regressor.fit(x_train, y_train)"
      ],
      "execution_count": 36,
      "outputs": [
        {
          "output_type": "execute_result",
          "data": {
            "text/plain": [
              "LinearRegression(copy_X=True, fit_intercept=True, n_jobs=None, normalize=False)"
            ]
          },
          "metadata": {
            "tags": []
          },
          "execution_count": 36
        }
      ]
    },
    {
      "cell_type": "code",
      "metadata": {
        "id": "ZRYKtZRadImW",
        "colab_type": "code",
        "colab": {}
      },
      "source": [
        "y_pred = regressor.predict(x_test)"
      ],
      "execution_count": 0,
      "outputs": []
    },
    {
      "cell_type": "code",
      "metadata": {
        "id": "LbqJhYAndIu_",
        "colab_type": "code",
        "colab": {
          "base_uri": "https://localhost:8080/",
          "height": 68
        },
        "outputId": "f762b32f-e23d-4349-a909-923d53c53981"
      },
      "source": [
        "print('Mean Absolute Error:', metrics.mean_absolute_error(y_test, y_pred))  \n",
        "print('Mean Squared Error:', metrics.mean_squared_error(y_test, y_pred))  \n",
        "print('Root Mean Squared Error:', np.sqrt(metrics.mean_squared_error(y_test, y_pred)))"
      ],
      "execution_count": 38,
      "outputs": [
        {
          "output_type": "stream",
          "text": [
            "Mean Absolute Error: 0.8933344991050286\n",
            "Mean Squared Error: 1.736076514316471\n",
            "Root Mean Squared Error: 1.3176025631109218\n"
          ],
          "name": "stdout"
        }
      ]
    }
  ]
}